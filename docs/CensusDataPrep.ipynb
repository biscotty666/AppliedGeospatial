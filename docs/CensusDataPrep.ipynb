{
 "cells": [
  {
   "cell_type": "markdown",
   "id": "e1638acd-d0d0-4492-bebd-c6bf011d072d",
   "metadata": {},
   "source": [
    "# Data Gathering and Preparation"
   ]
  },
  {
   "cell_type": "code",
   "execution_count": 1,
   "id": "5e020bf6-913c-4f9a-b53f-35363b4249f4",
   "metadata": {},
   "outputs": [],
   "source": [
    "# Import the requisite packages\n",
    "import matplotlib.pyplot as plt\n",
    "import pandas as pd\n",
    "import geopandas as gpd\n",
    "from census import Census \n",
    "from us import states "
   ]
  },
  {
   "cell_type": "code",
   "execution_count": 2,
   "id": "da64d69e-6ddb-4784-800a-1e83ff14a867",
   "metadata": {},
   "outputs": [],
   "source": [
    "# Set API key\n",
    "c = Census(\"2ae6b4b06c6b461ac27efd364c2fa133d96c0051\")"
   ]
  },
  {
   "cell_type": "code",
   "execution_count": 16,
   "id": "a115f041-0e18-43ac-8f53-a67b8e9052e2",
   "metadata": {},
   "outputs": [],
   "source": [
    "# Grabbing a few variables of interest pertaining to the economic vitality of an area\n",
    "fields = [\n",
    "    \"NAME\",\n",
    "    \"B01003_001E\", #\"Total Population\"\n",
    "    \"B25077_001E\", #\"Median value of owner occupied units\"\n",
    "    \"B25026_001E\", #\"Total population in occupied housing units\"\n",
    "    \"B25008_002E\", #\"Total number of owner occupied units\"\n",
    "    \"B25008_003E\", #\"Total number of renter occupied units\"\n",
    "    \"B06009_002E\", #\"Population with less than a high school diploma\"\n",
    "    \"B06009_003E\", #\"Population with high school diploma or equivalent\"\n",
    "    \"B06009_004E\", #\"Population with some college/associates degree\"\n",
    "    \"B06009_005E\", #\"Population with bachelors degree\"\n",
    "    \"B06009_006E\", #\"Population with a graduate degree\"\n",
    "    \"B01002_001E\", #\"Median age\"\n",
    "    \"B06010_004E\", #\"Population with income less than 9999\"\n",
    "    \"B06010_005E\", #\"Population with income between 10000 and 14999\"\n",
    "    \"B06010_006E\", #\"Population with income between 15000 and 24999\"\n",
    "    \"B06010_007E\", #\"Population with income between 25000 and 34999\"\n",
    "    \"B06010_008E\", #\"Population with income between 35000 and 49999\"\n",
    "    \"B06010_009E\", #\"Population with income between 50000 and 64999\"\n",
    "    \"B06010_010E\", #\"Population with income between 65000 and 74999\"\n",
    "    \"B06010_011E\", #\"Population with income of 75000 or more\"\n",
    "    \"B28007_009E\", #\"Population in labor force and unemployed\"\n",
    "    \"B19059_002E\", #\"Population that is retired with retirement income\"\n",
    "    \"B19059_003E\", #\"Retired without retirement income\"\n",
    "    \"B08013_001E\", #\"Travel time to work in minutes\"\n",
    "    \"B17013_002E\" #\"Population with income below poverty level in past 12 months\"\n",
    "        ]"
   ]
  },
  {
   "cell_type": "code",
   "execution_count": 17,
   "id": "b626a5f4-a110-4bf7-a79d-593c9526372e",
   "metadata": {},
   "outputs": [],
   "source": [
    "# Sources: https://api.census.gov/data/2019/acs/acs5/variables.html; https://pypi.org/project/census/\n",
    "nm_census = c.acs5.state_county_tract(\n",
    "    fields = fields,\n",
    "    state_fips = states.NM.fips,\n",
    "    county_fips = \"*\",\n",
    "    tract = \"*\",\n",
    "    year = 2022\n",
    "    )"
   ]
  },
  {
   "cell_type": "code",
   "execution_count": 42,
   "id": "f193b433-1a9c-481f-83db-4d84b0134fb8",
   "metadata": {},
   "outputs": [
    {
     "name": "stdout",
     "output_type": "stream",
     "text": [
      "                                               NAME  B01003_001E  B25077_001E  \\\n",
      "0  Census Tract 1.07; Bernalillo County; New Mexico       2535.0     423200.0   \n",
      "1  Census Tract 1.08; Bernalillo County; New Mexico       2539.0     323900.0   \n",
      "\n",
      "   B25026_001E  B25008_002E  B25008_003E  B06009_002E  B06009_003E  \\\n",
      "0       2529.0       2111.0        418.0          0.0        239.0   \n",
      "1       2509.0       1539.0        970.0        118.0        223.0   \n",
      "\n",
      "   B06009_004E  B06009_005E  ...  B06010_010E  B06010_011E  B28007_009E  \\\n",
      "0        466.0        753.0  ...         86.0        636.0         33.0   \n",
      "1        806.0        514.0  ...        178.0        481.0         30.0   \n",
      "\n",
      "   B19059_002E  B19059_003E  B08013_001E  B17013_002E  state  county   tract  \n",
      "0        370.0        834.0      22245.0         65.0     35     001  000107  \n",
      "1        232.0       1071.0      22730.0         34.0     35     001  000108  \n",
      "\n",
      "[2 rows x 28 columns]\n"
     ]
    }
   ],
   "source": [
    "nm_df = pd.DataFrame(nm_census)\n",
    "print(nm_df.head(2))"
   ]
  },
  {
   "cell_type": "code",
   "execution_count": 43,
   "id": "64ff41c9-7507-4a37-9739-ab27dfd7abf3",
   "metadata": {},
   "outputs": [
    {
     "data": {
      "text/plain": [
       "(612, 28)"
      ]
     },
     "execution_count": 43,
     "metadata": {},
     "output_type": "execute_result"
    }
   ],
   "source": [
    "nm_df.shape"
   ]
  },
  {
   "cell_type": "markdown",
   "id": "95224a42-002c-4efc-9708-6ec311871922",
   "metadata": {},
   "source": [
    "> NM fips: 35\n",
    "> EPSG: 2258"
   ]
  },
  {
   "cell_type": "code",
   "execution_count": 44,
   "id": "25f151f0-283d-4d0c-a81a-e9520f08b495",
   "metadata": {},
   "outputs": [],
   "source": [
    "nm_tract = gpd.read_file(\"https://www2.census.gov/geo/tiger/TIGER2022/TRACT/tl_2022_35_tract.zip\")"
   ]
  },
  {
   "cell_type": "code",
   "execution_count": 45,
   "id": "7a27d2c0-6afe-40d4-957f-7a7d2af00723",
   "metadata": {},
   "outputs": [],
   "source": [
    "nm_tract = nm_tract.to_crs(2258)"
   ]
  },
  {
   "cell_type": "code",
   "execution_count": 46,
   "id": "a4f36f5a-1a6e-4a60-a18f-7613f55177ac",
   "metadata": {},
   "outputs": [
    {
     "data": {
      "text/html": [
       "<div>\n",
       "<style scoped>\n",
       "    .dataframe tbody tr th:only-of-type {\n",
       "        vertical-align: middle;\n",
       "    }\n",
       "\n",
       "    .dataframe tbody tr th {\n",
       "        vertical-align: top;\n",
       "    }\n",
       "\n",
       "    .dataframe thead th {\n",
       "        text-align: right;\n",
       "    }\n",
       "</style>\n",
       "<table border=\"1\" class=\"dataframe\">\n",
       "  <thead>\n",
       "    <tr style=\"text-align: right;\">\n",
       "      <th></th>\n",
       "      <th>STATEFP</th>\n",
       "      <th>COUNTYFP</th>\n",
       "      <th>TRACTCE</th>\n",
       "      <th>GEOID</th>\n",
       "      <th>NAME</th>\n",
       "      <th>NAMELSAD</th>\n",
       "      <th>MTFCC</th>\n",
       "      <th>FUNCSTAT</th>\n",
       "      <th>ALAND</th>\n",
       "      <th>AWATER</th>\n",
       "      <th>INTPTLAT</th>\n",
       "      <th>INTPTLON</th>\n",
       "      <th>geometry</th>\n",
       "    </tr>\n",
       "  </thead>\n",
       "  <tbody>\n",
       "    <tr>\n",
       "      <th>0</th>\n",
       "      <td>35</td>\n",
       "      <td>009</td>\n",
       "      <td>000308</td>\n",
       "      <td>35009000308</td>\n",
       "      <td>3.08</td>\n",
       "      <td>Census Tract 3.08</td>\n",
       "      <td>G5020</td>\n",
       "      <td>S</td>\n",
       "      <td>5241119</td>\n",
       "      <td>40343</td>\n",
       "      <td>+34.4271346</td>\n",
       "      <td>-103.1803059</td>\n",
       "      <td>POLYGON ((2561417.241 1257878.087, 2561398.206...</td>\n",
       "    </tr>\n",
       "    <tr>\n",
       "      <th>1</th>\n",
       "      <td>35</td>\n",
       "      <td>009</td>\n",
       "      <td>000307</td>\n",
       "      <td>35009000307</td>\n",
       "      <td>3.07</td>\n",
       "      <td>Census Tract 3.07</td>\n",
       "      <td>G5020</td>\n",
       "      <td>S</td>\n",
       "      <td>2640449</td>\n",
       "      <td>12504</td>\n",
       "      <td>+34.4408610</td>\n",
       "      <td>-103.1884611</td>\n",
       "      <td>POLYGON ((2561269.483 1263468.297, 2561258.319...</td>\n",
       "    </tr>\n",
       "  </tbody>\n",
       "</table>\n",
       "</div>"
      ],
      "text/plain": [
       "  STATEFP COUNTYFP TRACTCE        GEOID  NAME           NAMELSAD  MTFCC  \\\n",
       "0      35      009  000308  35009000308  3.08  Census Tract 3.08  G5020   \n",
       "1      35      009  000307  35009000307  3.07  Census Tract 3.07  G5020   \n",
       "\n",
       "  FUNCSTAT    ALAND  AWATER     INTPTLAT      INTPTLON  \\\n",
       "0        S  5241119   40343  +34.4271346  -103.1803059   \n",
       "1        S  2640449   12504  +34.4408610  -103.1884611   \n",
       "\n",
       "                                            geometry  \n",
       "0  POLYGON ((2561417.241 1257878.087, 2561398.206...  \n",
       "1  POLYGON ((2561269.483 1263468.297, 2561258.319...  "
      ]
     },
     "execution_count": 46,
     "metadata": {},
     "output_type": "execute_result"
    }
   ],
   "source": [
    "nm_tract.head(2)"
   ]
  },
  {
   "cell_type": "code",
   "execution_count": 22,
   "id": "1424e965-5f87-4c8c-8f40-7ac9dc47fa01",
   "metadata": {},
   "outputs": [
    {
     "data": {
      "text/plain": [
       "(612, 13)"
      ]
     },
     "execution_count": 22,
     "metadata": {},
     "output_type": "execute_result"
    }
   ],
   "source": [
    "nm_tract.shape"
   ]
  },
  {
   "cell_type": "code",
   "execution_count": 66,
   "id": "01340241-b47f-4a14-b30d-af8a0feb995f",
   "metadata": {},
   "outputs": [
    {
     "data": {
      "text/plain": [
       "147    35049001105\n",
       "239    35013001105\n",
       "585    35043010503\n",
       "594    35049010500\n",
       "Name: GEOID, dtype: object"
      ]
     },
     "execution_count": 66,
     "metadata": {},
     "output_type": "execute_result"
    }
   ],
   "source": [
    "nm_tract.loc[nm_tract.GEOID.str.contains('105')].GEOID"
   ]
  },
  {
   "cell_type": "code",
   "execution_count": 67,
   "id": "7bfea3d0-dbdd-4e77-87d0-174a01bebc3f",
   "metadata": {},
   "outputs": [
    {
     "name": "stdout",
     "output_type": "stream",
     "text": [
      "                                                 NAME  B01003_001E  \\\n",
      "241   Census Tract 11.05; Doña Ana County; New Mexico       2319.0   \n",
      "423  Census Tract 105.03; Sandoval County; New Mexico       3538.0   \n",
      "519   Census Tract 11.05; Santa Fe County; New Mexico       2609.0   \n",
      "546     Census Tract 105; Santa Fe County; New Mexico       1994.0   \n",
      "\n",
      "     B25077_001E  B25026_001E  B25008_002E  B25008_003E  B06009_002E  \\\n",
      "241 -666666666.0       2319.0       1364.0        955.0        329.0   \n",
      "423     171300.0       3538.0       2506.0       1032.0        538.0   \n",
      "519     282800.0       2603.0       1682.0        921.0         49.0   \n",
      "546     845000.0       1994.0       1564.0        430.0         45.0   \n",
      "\n",
      "     B06009_003E  B06009_004E  B06009_005E  ...  B06010_010E  B06010_011E  \\\n",
      "241        470.0        308.0        166.0  ...          0.0        138.0   \n",
      "423       1008.0        854.0        392.0  ...        200.0        357.0   \n",
      "519        381.0        712.0        462.0  ...        251.0        367.0   \n",
      "546        142.0        346.0        506.0  ...          8.0        707.0   \n",
      "\n",
      "     B28007_009E  B19059_002E  B19059_003E  B08013_001E  B17013_002E  state  \\\n",
      "241          0.0        100.0        809.0      20680.0        178.0     35   \n",
      "423         68.0        449.0       1070.0      26940.0         32.0     35   \n",
      "519        210.0        505.0        799.0      30030.0         26.0     35   \n",
      "546         50.0        463.0        578.0      16805.0         19.0     35   \n",
      "\n",
      "     county   tract  \n",
      "241     013  001105  \n",
      "423     043  010503  \n",
      "519     049  001105  \n",
      "546     049  010500  \n",
      "\n",
      "[4 rows x 28 columns]\n"
     ]
    }
   ],
   "source": [
    "print(nm_df.loc[nm_df.tract.str.contains('105')])"
   ]
  },
  {
   "cell_type": "markdown",
   "id": "278ac7ca-ced7-4461-a527-65dd586bf7ed",
   "metadata": {},
   "source": [
    ">Create GEOID variable to merge with census data"
   ]
  },
  {
   "cell_type": "code",
   "execution_count": 68,
   "id": "2e728e91-e762-4e43-807c-78786672d35d",
   "metadata": {},
   "outputs": [],
   "source": [
    "nm_df['GEOID'] = nm_df.state + nm_df.county + nm_df.tract"
   ]
  },
  {
   "cell_type": "code",
   "execution_count": 69,
   "id": "9b2171fc-d6de-407c-8342-204da128ab62",
   "metadata": {},
   "outputs": [],
   "source": [
    "nm_df = nm_df.drop(columns=['state', 'county', 'tract'])"
   ]
  },
  {
   "cell_type": "code",
   "execution_count": 70,
   "id": "015c24ad-55e3-4dda-88d2-0237a7f1bff5",
   "metadata": {},
   "outputs": [
    {
     "name": "stdout",
     "output_type": "stream",
     "text": [
      "  STATEFP COUNTYFP TRACTCE        GEOID NAME_x           NAMELSAD  MTFCC  \\\n",
      "0      35      009  000308  35009000308   3.08  Census Tract 3.08  G5020   \n",
      "1      35      009  000307  35009000307   3.07  Census Tract 3.07  G5020   \n",
      "\n",
      "  FUNCSTAT    ALAND  AWATER  ... B06010_007E B06010_008E B06010_009E  \\\n",
      "0        S  5241119   40343  ...       144.0       434.0       326.0   \n",
      "1        S  2640449   12504  ...       347.0       505.0       292.0   \n",
      "\n",
      "  B06010_010E  B06010_011E  B28007_009E  B19059_002E  B19059_003E  \\\n",
      "0       174.0        477.0        130.0        460.0        759.0   \n",
      "1       117.0        637.0         96.0        299.0       1311.0   \n",
      "\n",
      "   B08013_001E  B17013_002E  \n",
      "0      23240.0         19.0  \n",
      "1      33020.0         41.0  \n",
      "\n",
      "[2 rows x 38 columns]\n"
     ]
    }
   ],
   "source": [
    "nm_merge = nm_tract.merge(nm_df, on='GEOID')\n",
    "print(nm_merge.head(2))"
   ]
  },
  {
   "cell_type": "code",
   "execution_count": 71,
   "id": "07a9ac47-0a19-49e5-9773-ac445afa0c08",
   "metadata": {},
   "outputs": [
    {
     "data": {
      "text/plain": [
       "(612, 38)"
      ]
     },
     "execution_count": 71,
     "metadata": {},
     "output_type": "execute_result"
    }
   ],
   "source": [
    "nm_merge.shape"
   ]
  },
  {
   "cell_type": "code",
   "execution_count": 72,
   "id": "40d8fd4d-5385-4d48-b118-44e172df410d",
   "metadata": {},
   "outputs": [],
   "source": [
    "# Renaming variables in the data set\n",
    "nm_merge.rename(columns={\n",
    "    \"B01003_001E\":\"TotPop\", #\"Total Population\"\n",
    "    \"B25077_001E\":\"MedVal_OwnOccUnit\", #\"Median value of owner occupied units\"\n",
    "    \"B25026_001E\":\"TotPopOccUnits\", #\"Total population in occupied housing units\"\n",
    "    \"B25008_002E\":\"TotNumOwnOccUnit\", #\"Total number of owner occupied units\"\n",
    "    \"B25008_003E\":\"TotNumRentOccUnit\", #\"Total number of renter occupied units\"\n",
    "    \"B06009_002E\":\"PopLTHSDip\", #\"Population with less than a high school diploma\"\n",
    "    \"B06009_003E\":\"PopHSDip\", #\"Population with high school diploma or equivalent\"\n",
    "    \"B06009_004E\":\"PopAssoc\", #\"Population with some college/associates degree\"\n",
    "    \"B06009_005E\":\"PopBA\", #\"Population with bachelors degree\"\n",
    "    \"B06009_006E\":\"PopGrad\", #\"Population with a graduate degree\"\n",
    "    \"B01002_001E\":\"MedAge\", #\"Median age\"\n",
    "    \"B06010_004E\":\"PopIncLT10\", #\"Population with income less than 9999\"\n",
    "    \"B06010_005E\":\"PopInc1015\", #\"Population with income between 10000 and 14999\"\n",
    "    \"B06010_006E\":\"PopInc1525\", #\"Population with income between 15000 and 24999\"\n",
    "    \"B06010_007E\":\"PopInc2535\", #\"Population with income between 25000 and 34999\"\n",
    "    \"B06010_008E\":\"PopInc3550\", #\"Population with income between 35000 and 49999\"\n",
    "    \"B06010_009E\":\"PopInc5065\", #\"Population with income between 50000 and 64999\"\n",
    "    \"B06010_010E\":\"PopInc6575\", #\"Population with income between 65000 and 74999\"\n",
    "    \"B06010_011E\":\"PopIncGT75\", #\"Population with income of 75000 or more\"\n",
    "    \"B28007_009E\":\"UnempPop\", #\"Population in labor force and unemployed\"\n",
    "    \"B19059_002E\":\"RetPop\", #\"Population that is retired with retirement income\"\n",
    "    \"B19059_003E\":\"RetPopNoRetInc\", #\"Retired without retirement income\"\n",
    "    \"B08013_001E\":\"TrvTimWrk\", #\"Travel time to work in minutes\"\n",
    "    \"B17013_002E\":\"PopBlwPovLvl\" #\"Population with income below poverty level in past 12 months\"\n",
    "}\n",
    "                , inplace=True\n",
    "               )"
   ]
  },
  {
   "cell_type": "markdown",
   "id": "19a2ae1e-96f0-4591-97c5-4f20c19d852c",
   "metadata": {},
   "source": [
    ">Create a subset of variables of interest"
   ]
  },
  {
   "cell_type": "code",
   "execution_count": 73,
   "id": "893915c5-5dfa-4d54-900e-8e7a8270d570",
   "metadata": {},
   "outputs": [],
   "source": [
    "geo_demo_rn = [\n",
    "\"TotPop\", #\"Total Population\"\n",
    "\"TotPopOccUnits\", #\"Total population in occupied housing units\"\n",
    "\"TotNumOwnOccUnit\", #\"Total number of owner occupied units\"\n",
    "\"TotNumRentOccUnit\", #\"Total number of renter occupied units\"\n",
    "\"PopLTHSDip\", #\"Population with less than a high school diploma\"\n",
    "\"PopHSDip\", #\"Population with high school diploma or equivalent\"\n",
    "\"PopAssoc\", #\"Population with some college/associates degree\"\n",
    "\"PopBA\", #\"Population with bachelors degree\"\n",
    "\"PopGrad\", #\"Population with a graduate degree\"\n",
    "\"PopIncLT10\", #\"Population with income less than 9999\"\n",
    "\"PopInc1015\", #\"Population with income between 10000 and 14999\"\n",
    "\"PopInc1525\", #\"Population with income between 15000 and 24999\"\n",
    "\"PopInc2535\", #\"Population with income between 25000 and 34999\"\n",
    "\"PopInc3550\", #\"Population with income between 35000 and 49999\"\n",
    "\"PopInc5065\", #\"Population with income between 50000 and 64999\"\n",
    "\"PopInc6575\", #\"Population with income between 65000 and 74999\"\n",
    "\"PopIncGT75\", #\"Population with income of 75000 or more\"\n",
    "\"UnempPop\", #\"Population in labor force and unemployed\"\n",
    "\"RetPop\", #\"Population that is retired with retirement income\"\n",
    "\"RetPopNoRetInc\", #\"Retired without retirement income\"\n",
    "\"PopBlwPovLvl\" #\"Population with income below poverty level in past 12 months\"\n",
    "]"
   ]
  },
  {
   "cell_type": "code",
   "execution_count": 74,
   "id": "b5bb310a-326a-4d8c-a239-e3a85be4b73f",
   "metadata": {},
   "outputs": [],
   "source": [
    "geo_demo_rn.append('geometry')"
   ]
  },
  {
   "cell_type": "code",
   "execution_count": 75,
   "id": "b1d4ec29-ef3f-4cbf-8e4a-68c55f4b8a71",
   "metadata": {},
   "outputs": [],
   "source": [
    "nm_merge2 = nm_merge[geo_demo_rn]"
   ]
  },
  {
   "cell_type": "code",
   "execution_count": 76,
   "id": "2623b8a6-fb52-49a8-83dc-d2171a6d1088",
   "metadata": {},
   "outputs": [],
   "source": [
    "geo_demo_rn.remove('geometry')"
   ]
  },
  {
   "cell_type": "markdown",
   "id": "f1b1a006-bccc-4a74-b6da-69712d5e3253",
   "metadata": {},
   "source": [
    ">Remove areas with no population"
   ]
  },
  {
   "cell_type": "code",
   "execution_count": 77,
   "id": "ebbd6d7d-6884-4641-a4a4-d6a94de77805",
   "metadata": {},
   "outputs": [
    {
     "data": {
      "text/plain": [
       "(612, 22)"
      ]
     },
     "execution_count": 77,
     "metadata": {},
     "output_type": "execute_result"
    }
   ],
   "source": [
    "nm_merge2.shape"
   ]
  },
  {
   "cell_type": "code",
   "execution_count": 78,
   "id": "a508f2cd-1eca-49c8-9858-ac8e5bcd8009",
   "metadata": {},
   "outputs": [
    {
     "data": {
      "text/plain": [
       "(604, 23)"
      ]
     },
     "execution_count": 78,
     "metadata": {},
     "output_type": "execute_result"
    }
   ],
   "source": [
    "nm_merge2 = nm_merge2[nm_merge2.TotPop > 0]\n",
    "nm_merge2.reset_index(inplace=True)\n",
    "nm_merge2.shape"
   ]
  },
  {
   "cell_type": "code",
   "execution_count": 79,
   "id": "644888aa-bd32-44c5-bd3a-dcb030f8978a",
   "metadata": {},
   "outputs": [],
   "source": [
    "nm_merge2.to_file('../data/nm_merge2.gpkg')"
   ]
  },
  {
   "cell_type": "code",
   "execution_count": 80,
   "id": "6fa861aa-6c9c-4670-8675-201049f8446c",
   "metadata": {},
   "outputs": [],
   "source": [
    "nm_tract.to_file('../data/nm_tract.gpkg')"
   ]
  },
  {
   "cell_type": "code",
   "execution_count": 81,
   "id": "fc7771d7-b9ce-4bcf-9d70-e48867429693",
   "metadata": {},
   "outputs": [],
   "source": [
    "nm_merge.to_file('../data/nm_merge.gpkg')"
   ]
  },
  {
   "cell_type": "code",
   "execution_count": null,
   "id": "1a99ba4f-f52e-4c80-bad1-7e7371b7fdc2",
   "metadata": {},
   "outputs": [],
   "source": []
  }
 ],
 "metadata": {
  "kernelspec": {
   "display_name": "Python 3 (ipykernel)",
   "language": "python",
   "name": "python3"
  },
  "language_info": {
   "codemirror_mode": {
    "name": "ipython",
    "version": 3
   },
   "file_extension": ".py",
   "mimetype": "text/x-python",
   "name": "python",
   "nbconvert_exporter": "python",
   "pygments_lexer": "ipython3",
   "version": "3.12.7"
  }
 },
 "nbformat": 4,
 "nbformat_minor": 5
}
